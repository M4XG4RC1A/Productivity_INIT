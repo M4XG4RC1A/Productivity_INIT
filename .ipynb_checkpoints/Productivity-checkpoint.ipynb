{
 "cells": [
  {
   "cell_type": "markdown",
   "id": "55a83273",
   "metadata": {},
   "source": [
    "# Productivity Tasks Manager"
   ]
  },
  {
   "cell_type": "code",
   "execution_count": 1,
   "id": "8148b435",
   "metadata": {},
   "outputs": [],
   "source": [
    "import ipywidgets as widgets\n",
    "import functools\n",
    "taskList = []\n",
    "taskComplete = []"
   ]
  },
  {
   "cell_type": "markdown",
   "id": "c08acb47",
   "metadata": {},
   "source": [
    "## Add Tasks"
   ]
  },
  {
   "cell_type": "code",
   "execution_count": 2,
   "id": "fbd72e79",
   "metadata": {},
   "outputs": [
    {
     "data": {
      "application/vnd.jupyter.widget-view+json": {
       "model_id": "b918835efe844e879951341e7d6479f3",
       "version_major": 2,
       "version_minor": 0
      },
      "text/plain": [
       "Text(value='', placeholder='Task to Add')"
      ]
     },
     "metadata": {},
     "output_type": "display_data"
    },
    {
     "data": {
      "application/vnd.jupyter.widget-view+json": {
       "model_id": "4cc50932c63c442cabf7473690c7db64",
       "version_major": 2,
       "version_minor": 0
      },
      "text/plain": [
       "Button(description='Add Task', style=ButtonStyle())"
      ]
     },
     "metadata": {},
     "output_type": "display_data"
    },
    {
     "name": "stdout",
     "output_type": "stream",
     "text": [
      "Added Element: Participate in Hackathon 1\n",
      "Added Element: Participate in Hackathon 2\n",
      "Added Element: Participate in Hackathon 3\n",
      "Added Element: Learn New Technology 1\n",
      "Added Element: Learn New Technology 2\n",
      "Added Element: Learn New Technology 3\n",
      "Added Element: Clean Room\n",
      "Added Element: Participate on LHD\n"
     ]
    }
   ],
   "source": [
    "def addElement(listComp,listAdd,b):\n",
    "    print(\"Added Element: {}\".format(obj.value))\n",
    "    listAdd.append(obj.value)\n",
    "    listComp.append(False)\n",
    "obj = widgets.Text(placeholder='Task to Add')\n",
    "display(obj)\n",
    "button = widgets.Button(description=\"Add Task\")\n",
    "display(button)\n",
    "button.on_click(functools.partial(addElement,taskComplete,taskList))"
   ]
  },
  {
   "cell_type": "markdown",
   "id": "26211c58",
   "metadata": {},
   "source": [
    "## Delete Tasks"
   ]
  },
  {
   "cell_type": "code",
   "execution_count": 3,
   "id": "ade8020e",
   "metadata": {},
   "outputs": [
    {
     "data": {
      "application/vnd.jupyter.widget-view+json": {
       "model_id": "500b71d4fe714a61bf2396d2880b8be7",
       "version_major": 2,
       "version_minor": 0
      },
      "text/plain": [
       "Dropdown(options=(), value=None)"
      ]
     },
     "metadata": {},
     "output_type": "display_data"
    },
    {
     "data": {
      "application/vnd.jupyter.widget-view+json": {
       "model_id": "9272fca4816a4376992d9dd286b91b7e",
       "version_major": 2,
       "version_minor": 0
      },
      "text/plain": [
       "Button(description='Delete Task', style=ButtonStyle())"
      ]
     },
     "metadata": {},
     "output_type": "display_data"
    },
    {
     "data": {
      "application/vnd.jupyter.widget-view+json": {
       "model_id": "082e4070cd8346bbac9c5f624752964c",
       "version_major": 2,
       "version_minor": 0
      },
      "text/plain": [
       "Button(description='Reload', style=ButtonStyle())"
      ]
     },
     "metadata": {},
     "output_type": "display_data"
    }
   ],
   "source": [
    "def deleteObj(listComp,listDel,b):\n",
    "    ind = listDel.index(act.value)\n",
    "    listDel.remove(act.value)\n",
    "    act.options = listDel\n",
    "    del listComp[ind]\n",
    "def ActUpdate(listDel,b):\n",
    "    act.options = listDel\n",
    "act = widgets.Dropdown(options=taskList)\n",
    "display(act)\n",
    "buttonDel = widgets.Button(description=\"Delete Task\")\n",
    "display(buttonDel)\n",
    "buttonDel.on_click(functools.partial(deleteObj,taskComplete,taskList))\n",
    "But = widgets.Button(description=\"Reload\")\n",
    "display(But)\n",
    "But.on_click(functools.partial(ActUpdate,taskList))"
   ]
  },
  {
   "cell_type": "markdown",
   "id": "31836d8b",
   "metadata": {},
   "source": [
    "## Tasks List"
   ]
  },
  {
   "cell_type": "code",
   "execution_count": 4,
   "id": "02342206",
   "metadata": {},
   "outputs": [
    {
     "name": "stdout",
     "output_type": "stream",
     "text": [
      "To do list (Reload with Ctrl+Enter):\n"
     ]
    },
    {
     "data": {
      "application/vnd.jupyter.widget-view+json": {
       "model_id": "2b4cfdc2d2ff4fcd9cc521094522eb1a",
       "version_major": 2,
       "version_minor": 0
      },
      "text/plain": [
       "Checkbox(value=False, description='Participate in Hackathon 1')"
      ]
     },
     "metadata": {},
     "output_type": "display_data"
    },
    {
     "data": {
      "application/vnd.jupyter.widget-view+json": {
       "model_id": "5089c039513e40d093013e5434d455ce",
       "version_major": 2,
       "version_minor": 0
      },
      "text/plain": [
       "Checkbox(value=False, description='Participate in Hackathon 2')"
      ]
     },
     "metadata": {},
     "output_type": "display_data"
    },
    {
     "data": {
      "application/vnd.jupyter.widget-view+json": {
       "model_id": "a8583f085b4243d4a6294fd485a4456f",
       "version_major": 2,
       "version_minor": 0
      },
      "text/plain": [
       "Checkbox(value=False, description='Participate in Hackathon 3')"
      ]
     },
     "metadata": {},
     "output_type": "display_data"
    },
    {
     "data": {
      "application/vnd.jupyter.widget-view+json": {
       "model_id": "8e2636c8f92449fab388ab71be9739b5",
       "version_major": 2,
       "version_minor": 0
      },
      "text/plain": [
       "Checkbox(value=False, description='Learn New Technology 1')"
      ]
     },
     "metadata": {},
     "output_type": "display_data"
    },
    {
     "data": {
      "application/vnd.jupyter.widget-view+json": {
       "model_id": "949a90b922294fe0960f0fc3ef36d100",
       "version_major": 2,
       "version_minor": 0
      },
      "text/plain": [
       "Checkbox(value=False, description='Learn New Technology 2')"
      ]
     },
     "metadata": {},
     "output_type": "display_data"
    },
    {
     "data": {
      "application/vnd.jupyter.widget-view+json": {
       "model_id": "29dc9b34e16b42a2b087a477ca2a541a",
       "version_major": 2,
       "version_minor": 0
      },
      "text/plain": [
       "Checkbox(value=False, description='Learn New Technology 3')"
      ]
     },
     "metadata": {},
     "output_type": "display_data"
    },
    {
     "data": {
      "application/vnd.jupyter.widget-view+json": {
       "model_id": "c7601a222dbf4817bab3228c1707104b",
       "version_major": 2,
       "version_minor": 0
      },
      "text/plain": [
       "Checkbox(value=False, description='Clean Room')"
      ]
     },
     "metadata": {},
     "output_type": "display_data"
    },
    {
     "data": {
      "application/vnd.jupyter.widget-view+json": {
       "model_id": "ce4e1f1439f547fca59995c4dc6a2922",
       "version_major": 2,
       "version_minor": 0
      },
      "text/plain": [
       "Checkbox(value=False, description='Participate on LHD')"
      ]
     },
     "metadata": {},
     "output_type": "display_data"
    },
    {
     "data": {
      "application/vnd.jupyter.widget-view+json": {
       "model_id": "28ab62b2e0854c6ba80f17069ca01de9",
       "version_major": 2,
       "version_minor": 0
      },
      "text/plain": [
       "IntProgress(value=0, bar_style='success', description='Progress: ', max=8)"
      ]
     },
     "metadata": {},
     "output_type": "display_data"
    }
   ],
   "source": [
    "def Change(b):\n",
    "    for n in range(len(taskList)):\n",
    "        taskComplete[n] = checks[n].value\n",
    "    progress.value = taskComplete.count(True)\n",
    "checks = []\n",
    "progress = widgets.IntProgress(value=taskComplete.count(True),min=0,max=len(taskList),description='Progress: ',bar_style='success',style={'bar-color':'green'})\n",
    "print(\"To do list (Reload with Ctrl+Enter):\")\n",
    "for n in range(len(taskList)):\n",
    "    checks.append(widgets.Checkbox(value=taskComplete[n],description=taskList[n],disabled=False))\n",
    "    display(checks[n])\n",
    "    checks[n].observe(Change)\n",
    "display(progress)"
   ]
  }
 ],
 "metadata": {
  "kernelspec": {
   "display_name": "Python 3",
   "language": "python",
   "name": "python3"
  },
  "language_info": {
   "codemirror_mode": {
    "name": "ipython",
    "version": 3
   },
   "file_extension": ".py",
   "mimetype": "text/x-python",
   "name": "python",
   "nbconvert_exporter": "python",
   "pygments_lexer": "ipython3",
   "version": "3.8.8"
  }
 },
 "nbformat": 4,
 "nbformat_minor": 5
}
