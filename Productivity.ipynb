{
 "cells": [
  {
   "cell_type": "markdown",
   "id": "55a83273",
   "metadata": {},
   "source": [
    "# Productivity Tasks Manager"
   ]
  },
  {
   "cell_type": "code",
   "execution_count": 2,
   "id": "8148b435",
   "metadata": {},
   "outputs": [],
   "source": [
    "import ipywidgets as widgets\n",
    "import functools\n",
    "taskList = []\n",
    "taskComplete = []"
   ]
  },
  {
   "cell_type": "markdown",
   "id": "c08acb47",
   "metadata": {},
   "source": [
    "## Add Tasks"
   ]
  },
  {
   "cell_type": "code",
   "execution_count": 3,
   "id": "fbd72e79",
   "metadata": {},
   "outputs": [
    {
     "data": {
      "application/vnd.jupyter.widget-view+json": {
       "model_id": "b39e25ca3abb434dafd5eeed69984df5",
       "version_major": 2,
       "version_minor": 0
      },
      "text/plain": [
       "Text(value='', placeholder='Task to Add')"
      ]
     },
     "metadata": {},
     "output_type": "display_data"
    },
    {
     "data": {
      "application/vnd.jupyter.widget-view+json": {
       "model_id": "0e3ff2517d74403bb6a570fdba95dda7",
       "version_major": 2,
       "version_minor": 0
      },
      "text/plain": [
       "Button(description='Add Task', style=ButtonStyle())"
      ]
     },
     "metadata": {},
     "output_type": "display_data"
    },
    {
     "name": "stdout",
     "output_type": "stream",
     "text": [
      "Added Element: Activity 1\n",
      "Added Element: Activity 2\n",
      "Added Element: Activity 3\n"
     ]
    }
   ],
   "source": [
    "def addElement(listComp,listAdd,b):\n",
    "    print(\"Added Element: {}\".format(obj.value))\n",
    "    listAdd.append(obj.value)\n",
    "    listComp.append(False)\n",
    "obj = widgets.Text(placeholder='Task to Add')\n",
    "display(obj)\n",
    "button = widgets.Button(description=\"Add Task\")\n",
    "display(button)\n",
    "button.on_click(functools.partial(addElement,taskComplete,taskList))"
   ]
  },
  {
   "cell_type": "markdown",
   "id": "26211c58",
   "metadata": {},
   "source": [
    "## Delete Tasks"
   ]
  },
  {
   "cell_type": "code",
   "execution_count": 4,
   "id": "ade8020e",
   "metadata": {},
   "outputs": [
    {
     "data": {
      "application/vnd.jupyter.widget-view+json": {
       "model_id": "3492ebbe47e444079b89dc38fad255e2",
       "version_major": 2,
       "version_minor": 0
      },
      "text/plain": [
       "Dropdown(options=(), value=None)"
      ]
     },
     "metadata": {},
     "output_type": "display_data"
    },
    {
     "data": {
      "application/vnd.jupyter.widget-view+json": {
       "model_id": "5649bac1d4f740848760c56e0059a663",
       "version_major": 2,
       "version_minor": 0
      },
      "text/plain": [
       "Button(description='Delete Task', style=ButtonStyle())"
      ]
     },
     "metadata": {},
     "output_type": "display_data"
    },
    {
     "data": {
      "application/vnd.jupyter.widget-view+json": {
       "model_id": "30a4513043cb4d5284bc6f04894e502d",
       "version_major": 2,
       "version_minor": 0
      },
      "text/plain": [
       "Button(description='Reload', style=ButtonStyle())"
      ]
     },
     "metadata": {},
     "output_type": "display_data"
    }
   ],
   "source": [
    "def deleteObj(listComp,listDel,b):\n",
    "    ind = listDel.index(act.value)\n",
    "    listDel.remove(act.value)\n",
    "    act.options = listDel\n",
    "    del listComp[ind]\n",
    "def ActUpdate(listDel,b):\n",
    "    act.options = listDel\n",
    "act = widgets.Dropdown(options=taskList)\n",
    "display(act)\n",
    "buttonDel = widgets.Button(description=\"Delete Task\")\n",
    "display(buttonDel)\n",
    "buttonDel.on_click(functools.partial(deleteObj,taskComplete,taskList))\n",
    "But = widgets.Button(description=\"Reload\")\n",
    "display(But)\n",
    "But.on_click(functools.partial(ActUpdate,taskList))"
   ]
  },
  {
   "cell_type": "markdown",
   "id": "31836d8b",
   "metadata": {},
   "source": [
    "## Tasks List"
   ]
  },
  {
   "cell_type": "code",
   "execution_count": 5,
   "id": "02342206",
   "metadata": {},
   "outputs": [
    {
     "name": "stdout",
     "output_type": "stream",
     "text": [
      "To do list (Reload with Ctrl+Enter):\n"
     ]
    },
    {
     "data": {
      "application/vnd.jupyter.widget-view+json": {
       "model_id": "a642cd6b29d04ac296af1a3683b478da",
       "version_major": 2,
       "version_minor": 0
      },
      "text/plain": [
       "Checkbox(value=False, description='Activity 1')"
      ]
     },
     "metadata": {},
     "output_type": "display_data"
    },
    {
     "data": {
      "application/vnd.jupyter.widget-view+json": {
       "model_id": "1b0d882a8b964f05b04c6f67ac20b1e9",
       "version_major": 2,
       "version_minor": 0
      },
      "text/plain": [
       "Checkbox(value=False, description='Activity 3')"
      ]
     },
     "metadata": {},
     "output_type": "display_data"
    },
    {
     "data": {
      "application/vnd.jupyter.widget-view+json": {
       "model_id": "167b56790e944db5960ec4cd2f4f2cf7",
       "version_major": 2,
       "version_minor": 0
      },
      "text/plain": [
       "IntProgress(value=0, bar_style='success', description='Progress: ', max=2)"
      ]
     },
     "metadata": {},
     "output_type": "display_data"
    }
   ],
   "source": [
    "def Change(b):\n",
    "    for n in range(len(taskList)):\n",
    "        taskComplete[n] = checks[n].value\n",
    "    progress.value = taskComplete.count(True)\n",
    "checks = []\n",
    "progress = widgets.IntProgress(value=taskComplete.count(True),min=0,max=len(taskList),description='Progress: ',bar_style='success',style={'bar-color':'green'})\n",
    "print(\"To do list (Reload with Ctrl+Enter):\")\n",
    "for n in range(len(taskList)):\n",
    "    checks.append(widgets.Checkbox(value=taskComplete[n],description=taskList[n],disabled=False))\n",
    "    display(checks[n])\n",
    "    checks[n].observe(Change)\n",
    "display(progress)"
   ]
  }
 ],
 "metadata": {
  "kernelspec": {
   "display_name": "Python 3",
   "language": "python",
   "name": "python3"
  },
  "language_info": {
   "codemirror_mode": {
    "name": "ipython",
    "version": 3
   },
   "file_extension": ".py",
   "mimetype": "text/x-python",
   "name": "python",
   "nbconvert_exporter": "python",
   "pygments_lexer": "ipython3",
   "version": "3.8.8"
  }
 },
 "nbformat": 4,
 "nbformat_minor": 5
}
